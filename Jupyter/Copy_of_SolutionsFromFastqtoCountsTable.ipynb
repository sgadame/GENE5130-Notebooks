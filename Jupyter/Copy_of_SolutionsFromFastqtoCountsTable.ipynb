{
  "cells": [
    {
      "cell_type": "markdown",
      "metadata": {
        "id": "h4HItVbUdlE4"
      },
      "source": [
        "This is the solution fo the inclass activity, you will need the file from the last cell for homework 3"
      ]
    },
    {
      "cell_type": "code",
      "execution_count": null,
      "metadata": {
        "id": "3uqXc6gRvPOO"
      },
      "outputs": [],
      "source": [
        "!apt-get install -y default-jre\n",
        "!java -version"
      ]
    },
    {
      "cell_type": "code",
      "execution_count": null,
      "metadata": {
        "id": "hN_HKAWZvXM3"
      },
      "outputs": [],
      "source": [
        "!wget https://www.bioinformatics.babraham.ac.uk/projects/fastqc/fastqc_v0.11.9.zip\n",
        "!unzip fastqc_v0.11.9.zip\n",
        "!chmod +x FastQC/fastqc"
      ]
    },
    {
      "cell_type": "code",
      "execution_count": null,
      "metadata": {
        "id": "z35JqxAavfbJ"
      },
      "outputs": [],
      "source": [
        "!wget 'https://figshare.com/ndownloader/articles/3219673?private_link=f5d63d8c265a05618137' -O example.zip\n",
        "!unzip example.zip"
      ]
    },
    {
      "cell_type": "code",
      "execution_count": null,
      "metadata": {
        "id": "AocGOfu6vrRZ"
      },
      "outputs": [],
      "source": [
        "!mv SRR1552444.fastq.gz Sample_luminalvirgin_01.fastq.gz\n",
        "!mv SRR1552445.fastq.gz Sample_luminalvirgin_02.fastq.gz\n",
        "!mv SRR1552446.fastq.gz Sample_luminalpregnant_01.fastq.gz\n",
        "!mv SRR1552447.fastq.gz Sample_luminalpregnant_02.fastq.gz\n",
        "!mv SRR1552448.fastq.gz Sample_luminallactate_01.fastq.gz\n",
        "!mv SRR1552449.fastq.gz Sample_luminallactate_02.fastq.gz\n",
        "!mv SRR1552450.fastq.gz Sample_basalvirgin_01.fastq.gz\n",
        "!mv SRR1552451.fastq.gz Sample_basalvirgin_02.fastq.gz\n",
        "!mv SRR1552452.fastq.gz Sample_basalpregnant_01.fastq.gz\n",
        "!mv SRR1552453.fastq.gz Sample_basalpregnant_02.fastq.gz\n",
        "!mv SRR1552454.fastq.gz Sample_basallactate_01.fastq.gz\n",
        "!mv SRR1552455.fastq.gz Sample_basallactate_02.fastq.gz"
      ]
    },
    {
      "cell_type": "code",
      "execution_count": null,
      "metadata": {
        "id": "-8FtzX_Gvvnb"
      },
      "outputs": [],
      "source": [
        "!pip install cutadapt"
      ]
    },
    {
      "cell_type": "code",
      "execution_count": null,
      "metadata": {
        "id": "yyDmafVav5gq"
      },
      "outputs": [],
      "source": [
        "!cutadapt --cut 15 -q 28 -o Trimmed_luminalvirgin_01.fastq Sample_luminalvirgin_01.fastq.gz\n",
        "!cutadapt --cut 15 -q 28 -o Trimmed_luminalvirgin_02.fastq Sample_luminalvirgin_02.fastq.gz\n",
        "!cutadapt --cut 15 -q 28 -o Trimmed_luminalpregnant_01.fastq Sample_luminalpregnant_01.fastq.gz\n",
        "!cutadapt --cut 15 -q 28 -o Trimmed_luminalpregnant_02.fastq Sample_luminalpregnant_02.fastq.gz\n",
        "!cutadapt --cut 15 -q 28 -o Trimmed_luminallactate_01.fastq Sample_luminallactate_01.fastq.gz\n",
        "!cutadapt --cut 15 -q 28 -o Trimmed_luminallactate_02.fastq Sample_luminallactate_02.fastq.gz\n",
        "!cutadapt --cut 15 -q 28 -o Trimmed_basalvirgin_01.fastq Sample_basalvirgin_01.fastq.gz\n",
        "!cutadapt --cut 15 -q 28 -o Trimmed_basalvirgin_02.fastq Sample_basalvirgin_02.fastq.gz\n",
        "!cutadapt --cut 15 -q 28 -o Trimmed_basalpregnant_01.fastq Sample_basalpregnant_01.fastq.gz\n",
        "!cutadapt --cut 15 -q 28 -o Trimmed_basalpregnant_02.fastq Sample_basalpregnant_02.fastq.gz\n",
        "!cutadapt --cut 15 -q 28 -o Trimmed_basallactate_01.fastq Sample_basallactate_01.fastq.gz\n",
        "!cutadapt --cut 15 -q 28 -o Trimmed_basallactate_02.fastq Sample_basallactate_02.fastq.gz"
      ]
    },
    {
      "cell_type": "code",
      "execution_count": null,
      "metadata": {
        "id": "vLVB1dECwf0B"
      },
      "outputs": [],
      "source": [
        "!apt-get install hisat2"
      ]
    },
    {
      "cell_type": "code",
      "execution_count": null,
      "metadata": {
        "id": "ckmM3Wa6wreD"
      },
      "outputs": [],
      "source": [
        "!wget ftp://ftp.ccb.jhu.edu/pub/infphilo/hisat2/data/mm10.tar.gz"
      ]
    },
    {
      "cell_type": "code",
      "execution_count": null,
      "metadata": {
        "id": "27aeyXZhw1Vj"
      },
      "outputs": [],
      "source": [
        "!tar -xzf mm10.tar.gz"
      ]
    },
    {
      "cell_type": "code",
      "execution_count": null,
      "metadata": {
        "id": "uzCvh2mIxKwq"
      },
      "outputs": [],
      "source": [
        "\n",
        "!hisat2 -x mm10/genome -U Trimmed_luminalvirgin_01.fastq -S Aln_luminalvirgin_01.sam\n",
        "!hisat2 -x mm10/genome -U Trimmed_luminalvirgin_02.fastq -S Aln_luminalvirgin_02.sam\n",
        "!hisat2 -x mm10/genome -U Trimmed_luminalpregnant_01.fastq -S Aln_luminalpregnant_01.sam\n",
        "!hisat2 -x mm10/genome -U Trimmed_luminalpregnant_02.fastq -S Aln_luminalpregnant_02.sam\n",
        "!hisat2 -x mm10/genome -U Trimmed_luminallactate_01.fastq -S Aln_luminallactate_01.sam\n",
        "!hisat2 -x mm10/genome -U Trimmed_luminallactate_02.fastq -S Aln_luminallactate_02.sam\n",
        "!hisat2 -x mm10/genome -U Trimmed_basalvirgin_01.fastq -S Aln_basalvirgin_01.sam\n",
        "!hisat2 -x mm10/genome -U Trimmed_basalvirgin_02.fastq -S Aln_basalvirgin_02.sam\n",
        "!hisat2 -x mm10/genome -U Trimmed_basalpregnant_01.fastq -S Aln_basalpregnant_01.sam\n",
        "!hisat2 -x mm10/genome -U Trimmed_basalpregnant_02.fastq -S Aln_basalpregnant_02.sam\n",
        "!hisat2 -x mm10/genome -U Trimmed_basallactate_01.fastq -S Aln_basallactate_01.sam\n",
        "!hisat2 -x mm10/genome -U Trimmed_basallactate_02.fastq -S Aln_basallactate_02.sam"
      ]
    },
    {
      "cell_type": "code",
      "execution_count": null,
      "metadata": {
        "id": "AQtOQNb8xmKR",
        "colab": {
          "base_uri": "https://localhost:8080/"
        },
        "outputId": "4c36c38f-9c11-434d-a378-039d1a7b1570"
      },
      "outputs": [
        {
          "output_type": "stream",
          "name": "stdout",
          "text": [
            "^C\n"
          ]
        }
      ],
      "source": [
        "!apt-get install subread"
      ]
    },
    {
      "cell_type": "code",
      "execution_count": null,
      "metadata": {
        "id": "HlICcLS3xu2d"
      },
      "outputs": [],
      "source": [
        "!wget https://ftp.ensembl.org/pub/release-102/gtf/mus_musculus/Mus_musculus.GRCm38.102.gtf.gz"
      ]
    },
    {
      "cell_type": "code",
      "execution_count": null,
      "metadata": {
        "id": "AHg18gMzyPGT"
      },
      "outputs": [],
      "source": [
        "!gunzip Mus_musculus.GRCm38.102.gtf.gz"
      ]
    },
    {
      "cell_type": "code",
      "execution_count": null,
      "metadata": {
        "id": "872B6LBOyCWk"
      },
      "outputs": [],
      "source": [
        "!featureCounts -a Mus_musculus.GRCm38.102.gtf -o counts.txt *.sam"
      ]
    },
    {
      "cell_type": "code",
      "execution_count": null,
      "metadata": {
        "colab": {
          "base_uri": "https://localhost:8080/",
          "height": 17
        },
        "id": "wvZ-lupOdlE9",
        "outputId": "64de287f-5091-49e6-d9cb-aeb2971b3422"
      },
      "outputs": [
        {
          "output_type": "display_data",
          "data": {
            "text/plain": [
              "<IPython.core.display.Javascript object>"
            ],
            "application/javascript": [
              "\n",
              "    async function download(id, filename, size) {\n",
              "      if (!google.colab.kernel.accessAllowed) {\n",
              "        return;\n",
              "      }\n",
              "      const div = document.createElement('div');\n",
              "      const label = document.createElement('label');\n",
              "      label.textContent = `Downloading \"${filename}\": `;\n",
              "      div.appendChild(label);\n",
              "      const progress = document.createElement('progress');\n",
              "      progress.max = size;\n",
              "      div.appendChild(progress);\n",
              "      document.body.appendChild(div);\n",
              "\n",
              "      const buffers = [];\n",
              "      let downloaded = 0;\n",
              "\n",
              "      const channel = await google.colab.kernel.comms.open(id);\n",
              "      // Send a message to notify the kernel that we're ready.\n",
              "      channel.send({})\n",
              "\n",
              "      for await (const message of channel.messages) {\n",
              "        // Send a message to notify the kernel that we're ready.\n",
              "        channel.send({})\n",
              "        if (message.buffers) {\n",
              "          for (const buffer of message.buffers) {\n",
              "            buffers.push(buffer);\n",
              "            downloaded += buffer.byteLength;\n",
              "            progress.value = downloaded;\n",
              "          }\n",
              "        }\n",
              "      }\n",
              "      const blob = new Blob(buffers, {type: 'application/binary'});\n",
              "      const a = document.createElement('a');\n",
              "      a.href = window.URL.createObjectURL(blob);\n",
              "      a.download = filename;\n",
              "      div.appendChild(a);\n",
              "      a.click();\n",
              "      div.remove();\n",
              "    }\n",
              "  "
            ]
          },
          "metadata": {}
        },
        {
          "output_type": "display_data",
          "data": {
            "text/plain": [
              "<IPython.core.display.Javascript object>"
            ],
            "application/javascript": [
              "download(\"download_c7698d9e-5058-4fd3-84d3-7ae738167982\", \"counts.txt\", 21974468)"
            ]
          },
          "metadata": {}
        }
      ],
      "source": [
        "from google.colab import files\n",
        "files.download('counts.txt')"
      ]
    }
  ],
  "metadata": {
    "colab": {
      "provenance": []
    },
    "kernelspec": {
      "display_name": "Python 3 (ipykernel)",
      "language": "python",
      "name": "python3"
    },
    "language_info": {
      "codemirror_mode": {
        "name": "ipython",
        "version": 3
      },
      "file_extension": ".py",
      "mimetype": "text/x-python",
      "name": "python",
      "nbconvert_exporter": "python",
      "pygments_lexer": "ipython3",
      "version": "3.9.6"
    }
  },
  "nbformat": 4,
  "nbformat_minor": 0
}