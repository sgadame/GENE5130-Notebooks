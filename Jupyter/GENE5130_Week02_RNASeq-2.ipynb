{
  "cells": [
    {
      "cell_type": "markdown",
      "metadata": {
        "id": "sNjs4jzIn6mb"
      },
      "source": [
        "# RNA-Seq Data Analysis\n",
        "In this jupyter notebook we will walk through some data analysis using jupyter notebooks. We will go over the general steps covered in lecture:\n",
        "\n",
        "1) FastQ quality control\n",
        "2) Read Mapping\n",
        "3) Features counts\n",
        "4) Simple Image generation"
      ]
    },
    {
      "cell_type": "markdown",
      "metadata": {
        "id": "S7DEC9djn6mc"
      },
      "source": [
        "We will be using the data from Fu et al (2015) ' EGF- mediated induction of Mcl-1 at the switch to lactation is essential for alveolar cell survival' Nat Cell Biol.\n",
        "\n",
        "This study examined the expression profiles of basal and luminal cells in the mammary gland of virgin, pregnant and lactating mice. Six groups are present, with one for each combination of cell type and mouse status. Note that two biological replicates are used here, two independent sorts of cells from the mammary glands of virgin, pregnant or lactating mice, however three replicates is usually recommended as a minimum requirement for RNA-seq.\n"
      ]
    },
    {
      "cell_type": "markdown",
      "metadata": {
        "id": "qrW_ZlgMn6md"
      },
      "source": [
        "As a first step we wil prepare the notebook to work with the software that we need, we will:\n",
        "- Install java\n",
        "- Download fastqc and make it executable"
      ]
    },
    {
      "cell_type": "code",
      "source": [
        "!sudo apt-get install -y default-jre\n",
        "!java -version"
      ],
      "metadata": {
        "id": "fJnwVFQpsDaW"
      },
      "execution_count": null,
      "outputs": []
    },
    {
      "cell_type": "code",
      "execution_count": null,
      "metadata": {
        "id": "of-VF0O25AGQ"
      },
      "outputs": [],
      "source": [
        "!wget https://www.bioinformatics.babraham.ac.uk/projects/fastqc/fastqc_v0.11.9.zip"
      ]
    },
    {
      "cell_type": "code",
      "execution_count": null,
      "metadata": {
        "id": "LtsHBEbn5Cpb"
      },
      "outputs": [],
      "source": [
        "!unzip fastqc_v0.11.9.zip"
      ]
    },
    {
      "cell_type": "code",
      "execution_count": 4,
      "metadata": {
        "id": "8_r9nBcV5F99",
        "colab": {
          "base_uri": "https://localhost:8080/"
        },
        "outputId": "77eef618-87ad-40aa-8f57-e8444fd73478"
      },
      "outputs": [
        {
          "output_type": "stream",
          "name": "stdout",
          "text": [
            "cisd-jhdf5.jar\t Help\t\t LICENSE_JHDF5.txt  README.md\t       sam-1.103.jar\n",
            "Configuration\t INSTALL.txt\t LICENSE.txt\t    README.txt\t       Templates\n",
            "fastqc\t\t jbzip2-0.9.jar  net\t\t    RELEASE_NOTES.txt  uk\n",
            "fastqc_icon.ico  LICENSE\t org\t\t    run_fastqc.bat\n"
          ]
        }
      ],
      "source": [
        "!ls FastQC/"
      ]
    },
    {
      "cell_type": "code",
      "execution_count": 5,
      "metadata": {
        "id": "vsLUl5tp5Jxo"
      },
      "outputs": [],
      "source": [
        "!chmod +x FastQC/fastqc"
      ]
    },
    {
      "cell_type": "code",
      "execution_count": null,
      "metadata": {
        "id": "UkNzSwM15Lhj"
      },
      "outputs": [],
      "source": [
        "!./FastQC/fastqc --version"
      ]
    },
    {
      "cell_type": "markdown",
      "metadata": {
        "id": "w_avG2Iyn6md"
      },
      "source": [
        "Now we will download the data from Fu et al, we will save it as example.zip (that's the -O below), we will unzip it"
      ]
    },
    {
      "cell_type": "code",
      "execution_count": null,
      "metadata": {
        "id": "gvA2KQ2l7NcE"
      },
      "outputs": [],
      "source": [
        "!wget 'https://figshare.com/ndownloader/articles/3219673?private_link=f5d63d8c265a05618137' -O example.zip"
      ]
    },
    {
      "cell_type": "code",
      "execution_count": null,
      "metadata": {
        "id": "UtQ6m9Ck7V0D"
      },
      "outputs": [],
      "source": [
        "!unzip example.zip"
      ]
    },
    {
      "cell_type": "markdown",
      "metadata": {
        "id": "WmbsTR1gn6me"
      },
      "source": [
        "Now that it is unzipped lets take a look at one (by running the code below), what do you observe, please take a moment to identify the four lines that indentify a single sequencing read."
      ]
    },
    {
      "cell_type": "code",
      "execution_count": null,
      "metadata": {
        "id": "0DTCaflzBxOZ"
      },
      "outputs": [],
      "source": [
        "!zcat SRR1552446.fastq.gz"
      ]
    },
    {
      "cell_type": "markdown",
      "source": [
        "Now, let's take run fastqc on a single file!"
      ],
      "metadata": {
        "id": "ErZFbDa8okxh"
      }
    },
    {
      "cell_type": "code",
      "execution_count": 16,
      "metadata": {
        "id": "ph8h7AJH7Zhi",
        "colab": {
          "base_uri": "https://localhost:8080/"
        },
        "outputId": "773925c6-a4b1-4708-f42f-5ecad091452c"
      },
      "outputs": [
        {
          "output_type": "stream",
          "name": "stdout",
          "text": [
            "Started analysis of SRR1552444.fastq.gz\n",
            "Approx 100% complete for SRR1552444.fastq.gz\n",
            "Analysis complete for SRR1552444.fastq.gz\n"
          ]
        }
      ],
      "source": [
        "!./FastQC/fastqc SRR1552444.fastq.gz"
      ]
    },
    {
      "cell_type": "markdown",
      "metadata": {
        "id": "76MrZt95GicZ"
      },
      "source": [
        "Based on what we covered in the lecture portion, what do you think of the data,\n",
        "#### is this overall good or bad quality?"
      ]
    },
    {
      "cell_type": "code",
      "source": [
        "#Great quality score\n",
        "#Something is wrong with the beginning of each read?"
      ],
      "metadata": {
        "id": "p9PxWFzrz5n8"
      },
      "execution_count": null,
      "outputs": []
    },
    {
      "cell_type": "markdown",
      "metadata": {
        "id": "F6RcQySzn6me"
      },
      "source": [
        "Before we continue with the analysis, lets rename the files,\n",
        "SRRXXXXX is the accession number in a public repository, this is how we share 'omic data generated, lets raname it based on the experimental designed presented above\n",
        "\n",
        "|ACCESSION ID | Sample Name |\n",
        "|---|---|\n",
        "|SRR1552444   |  Sample_luminalvirgin_01 |\n",
        "|SRR1552445   |  Sample_luminalvirgin_02 |\n",
        "|SRR1552446   |  Sample_luminalpregnant_01 |\n",
        "|SRR1552447   |  Sample_luminalpregnant_02 |\n",
        "|SRR1552448   |  Sample_luminallactate_01 |\n",
        "|SRR1552449   |  Sample_luminallactate_02 |\n",
        "|SRR1552450   |  Sample_basalvirgin_01 |\n",
        "|SRR1552451   |  Sample_basalvirgin_02 |\n",
        "|SRR1552452   |  Sample_basalpregnant_01 |\n",
        "|SRR1552453   |  Sample_basalpregnant_02 |\n",
        "|SRR1552454   |  Sample_basallactate_01 |\n",
        "|SRR1552455   |  Sample_basallactate_02 |\n",
        "\n"
      ]
    },
    {
      "cell_type": "code",
      "execution_count": 18,
      "metadata": {
        "id": "LbcoKtPin6me"
      },
      "outputs": [],
      "source": [
        "!mv SRR1552446.fastq.gz Sample_luminalvirgin_02.fastq.gz"
      ]
    },
    {
      "cell_type": "markdown",
      "metadata": {
        "id": "Iwcb6bFpn6me"
      },
      "source": [
        "Now based on what we observed in our fastqc outputs lets start doing some QC on our actual data, we will be using cutadapt which is a popular software but my no means the only one."
      ]
    },
    {
      "cell_type": "code",
      "execution_count": null,
      "metadata": {
        "id": "9giw0itF9nf1"
      },
      "outputs": [],
      "source": [
        "!pip install cutadapt\n"
      ]
    },
    {
      "cell_type": "code",
      "execution_count": 20,
      "metadata": {
        "id": "J1cGp38b-NGR",
        "colab": {
          "base_uri": "https://localhost:8080/"
        },
        "outputId": "27e7f287-99b2-4afb-c718-05fbcf04e470"
      },
      "outputs": [
        {
          "output_type": "stream",
          "name": "stdout",
          "text": [
            "5.0\n"
          ]
        }
      ],
      "source": [
        "!cutadapt --version"
      ]
    },
    {
      "cell_type": "markdown",
      "metadata": {
        "id": "uZtVJhW5n6me"
      },
      "source": [
        "Lets run cutadapt on a sample, asking to cut the first 15 bases and to keep sequences with quality scores higher than 28"
      ]
    },
    {
      "cell_type": "code",
      "execution_count": null,
      "metadata": {
        "id": "ETVYOcOC_Mji"
      },
      "outputs": [],
      "source": [
        "!cutadapt --cut 15 -q 28  -o Trimmed_luminalvirgin_02.fastq Sample_luminalvirgin_02.fastq.gz"
      ]
    },
    {
      "cell_type": "markdown",
      "metadata": {
        "id": "jqzBRJPEn6me"
      },
      "source": [
        "Let's run fastqc on it one more time and download the data,\n",
        "what do you observe?\n",
        "remember to check the actual file name to download!"
      ]
    },
    {
      "cell_type": "code",
      "execution_count": null,
      "metadata": {
        "id": "cOqJH3kNGbNQ"
      },
      "outputs": [],
      "source": [
        "!./FastQC/fastqc Trimmed_luminalvirgin_02.fastq"
      ]
    },
    {
      "cell_type": "code",
      "source": [
        "#Great quality ber base read once again\n",
        "#Error is seen in seq length distribution"
      ],
      "metadata": {
        "id": "rd4jvwsN1WIf"
      },
      "execution_count": null,
      "outputs": []
    },
    {
      "cell_type": "markdown",
      "metadata": {
        "id": "6f2acbkqn6mf"
      },
      "source": [
        "### 2. Read Mapping\n",
        "We will be using hisat2, remember there are many options!! We will use this as a case example, right now I just want you to be aware that this is not the only option!\n",
        "\n",
        "First, we will install hisat2"
      ]
    },
    {
      "cell_type": "code",
      "execution_count": null,
      "metadata": {
        "id": "XQmlwxZVJNvL"
      },
      "outputs": [],
      "source": [
        "!apt-get install hisat2"
      ]
    },
    {
      "cell_type": "markdown",
      "metadata": {
        "id": "4HtTrBbln6mf"
      },
      "source": [
        "We are going to use the approach \"align against a reference genome\", from last week lecture you should remember that there were multiple posibilities, to do that we have to\n",
        "1) Download the genome, 2) run hisat2 with our data"
      ]
    },
    {
      "cell_type": "code",
      "execution_count": null,
      "metadata": {
        "id": "WY-qjOnTJR1h"
      },
      "outputs": [],
      "source": [
        "!wget ftp://ftp.ccb.jhu.edu/pub/infphilo/hisat2/data/mm10.tar.gz"
      ]
    },
    {
      "cell_type": "code",
      "execution_count": 25,
      "metadata": {
        "id": "wBUH8kw2J6cV"
      },
      "outputs": [],
      "source": [
        "!tar -xzf mm10.tar.gz\n",
        "\n"
      ]
    },
    {
      "cell_type": "code",
      "execution_count": 26,
      "metadata": {
        "id": "MQit5nnWJ_RG",
        "colab": {
          "base_uri": "https://localhost:8080/"
        },
        "outputId": "3de10a48-dcf8-4a31-ed61-ddd32e87064c"
      },
      "outputs": [
        {
          "output_type": "stream",
          "name": "stdout",
          "text": [
            "genome.1.ht2  genome.3.ht2  genome.5.ht2  genome.7.ht2\tmake_mm10.sh\n",
            "genome.2.ht2  genome.4.ht2  genome.6.ht2  genome.8.ht2\n"
          ]
        }
      ],
      "source": [
        "!ls mm10"
      ]
    },
    {
      "cell_type": "code",
      "execution_count": null,
      "metadata": {
        "id": "SmpsRjOtKUys"
      },
      "outputs": [],
      "source": [
        "!hisat2 -x mm10/genome -U SRR1552444.fastq.gz -S Aln_luminalvirgin_02.sam"
      ]
    },
    {
      "cell_type": "code",
      "source": [
        "!hisat2 -x mm10/genome -U SRR1552453.fastq.gz -S Aln_luminalvirgin_03.sam\n"
      ],
      "metadata": {
        "id": "E3Dk5we04PVf"
      },
      "execution_count": null,
      "outputs": []
    },
    {
      "cell_type": "markdown",
      "metadata": {
        "id": "M1GSRfcPn6mg"
      },
      "source": [
        "Let's take a look at the alignment files!, take a moment to identify the read name, the sequence where it is aligning, the alignment shorthad string"
      ]
    },
    {
      "cell_type": "code",
      "execution_count": null,
      "metadata": {
        "id": "ex4h1VUlK16g"
      },
      "outputs": [],
      "source": [
        "!samtools view Aln_luminalvirgin_02.sam\n"
      ]
    },
    {
      "cell_type": "markdown",
      "metadata": {
        "id": "XhMEiS_hn6mg"
      },
      "source": [
        "Interestingly we can run fastqc on a sam/bam file, take a moment to run it and donwload it as we have done before!, Hint: Here is the first line of code. What do you observe!"
      ]
    },
    {
      "cell_type": "code",
      "execution_count": 30,
      "metadata": {
        "id": "HmD5mi7ELCJt",
        "colab": {
          "base_uri": "https://localhost:8080/"
        },
        "outputId": "1bebdcd5-8d03-4176-f4b9-2dd5e6ce46e6"
      },
      "outputs": [
        {
          "output_type": "stream",
          "name": "stdout",
          "text": [
            "Started analysis of Aln_luminalvirgin_02.sam\n",
            "Approx 100% complete for Aln_luminalvirgin_02.sam\n",
            "Analysis complete for Aln_luminalvirgin_02.sam\n"
          ]
        }
      ],
      "source": [
        "!./FastQC/fastqc  Aln_luminalvirgin_02.sam"
      ]
    },
    {
      "cell_type": "code",
      "source": [
        "!ls"
      ],
      "metadata": {
        "id": "8o_dZa6lO4Mm",
        "colab": {
          "base_uri": "https://localhost:8080/"
        },
        "outputId": "8d356c8e-71a6-4268-f516-175a147f629f"
      },
      "execution_count": 31,
      "outputs": [
        {
          "output_type": "stream",
          "name": "stdout",
          "text": [
            "Aln_luminalvirgin_02_fastqc.html  SRR1552444_fastqc.zip\n",
            "Aln_luminalvirgin_02_fastqc.zip   SRR1552444.fastq.gz\n",
            "Aln_luminalvirgin_02.sam\t  SRR1552447.fastq.gz\n",
            "Aln_luminalvirgin_03.sam\t  SRR1552448.fastq.gz\n",
            "chr1_mm10.00.b.array\t\t  SRR1552449.fastq.gz\n",
            "chr1_mm10.00.b.tab\t\t  SRR1552450.fastq.gz\n",
            "chr1_mm10.files\t\t\t  SRR1552451.fastq.gz\n",
            "chr1_mm10.reads\t\t\t  SRR1552452.fastq.gz\n",
            "example.zip\t\t\t  SRR1552453.fastq.gz\n",
            "FastQC\t\t\t\t  SRR1552454.fastq.gz\n",
            "fastqc_v0.11.9.zip\t\t  SRR1552455.fastq.gz\n",
            "mm10\t\t\t\t  targets2.txt\n",
            "mm10.tar.gz\t\t\t  Trimmed_luminalvirgin_02.fastq\n",
            "sample_data\t\t\t  Trimmed_luminalvirgin_02_fastqc.html\n",
            "Sample_luminalvirgin_02.fastq.gz  Trimmed_luminalvirgin_02_fastqc.zip\n",
            "SRR1552444_fastqc.html\n"
          ]
        }
      ]
    },
    {
      "cell_type": "code",
      "source": [
        "#Per base seq is off at the beginning position of each read"
      ],
      "metadata": {
        "id": "i646qLGs2MaJ"
      },
      "execution_count": null,
      "outputs": []
    },
    {
      "cell_type": "markdown",
      "metadata": {
        "id": "qD-NaIY6n6mg"
      },
      "source": [
        "### 3.- Features counts\n",
        "We will bse now using subread (https://subread.sourceforge.net/), which comprises a suite of software programs for processing next-gen sequencing read data, importantly for our case it can sum and summarize hits really fast"
      ]
    },
    {
      "cell_type": "code",
      "execution_count": null,
      "metadata": {
        "id": "1RRzHlf8MLcU"
      },
      "outputs": [],
      "source": [
        "!apt-get install subread"
      ]
    },
    {
      "cell_type": "code",
      "source": [
        "!wget https://ftp.ensembl.org/pub/release-102/gtf/mus_musculus/Mus_musculus.GRCm38.102.gtf.gz"
      ],
      "metadata": {
        "id": "1J5SAHCocTML"
      },
      "execution_count": null,
      "outputs": []
    },
    {
      "cell_type": "markdown",
      "metadata": {
        "id": "gPo_mcQAn6mg"
      },
      "source": [
        "The reference genome does not have coordiates per each gene, so we will be downloading a GTF files (general feature format) You can learn more about a GTF file from your favorite website (https://useast.ensembl.org/info/website/upload/gff.html)"
      ]
    },
    {
      "cell_type": "code",
      "execution_count": 34,
      "metadata": {
        "id": "OJYINgG4OREG"
      },
      "outputs": [],
      "source": [
        "!gunzip Mus_musculus.GRCm38.102.gtf.gz"
      ]
    },
    {
      "cell_type": "code",
      "source": [
        "!head -n 100 Mus_musculus.GRCm38.102.gtf"
      ],
      "metadata": {
        "id": "5zaEmGzSc6mG"
      },
      "execution_count": null,
      "outputs": []
    },
    {
      "cell_type": "markdown",
      "metadata": {
        "id": "qaTFwzoVn6mg"
      },
      "source": [
        "We ca finally count features! But before going there take a moment to run cutadapt and hisat2 on two more samples.\n",
        "HINT: We are reapeaing the code boxes that start with \"!cutadapt --cut\" and \"!hisat2 -x \" do it for at two more samples, remeber to change the names and track them as trimmed_XXXXX and aln_XXXXX"
      ]
    },
    {
      "cell_type": "markdown",
      "metadata": {
        "id": "9rgYZFnAn6mg"
      },
      "source": [
        "1lsHopefully after this you should have three more files, run features counts on them as follow, (NOTE the code block below might not work unless"
      ]
    },
    {
      "cell_type": "markdown",
      "source": [],
      "metadata": {
        "id": "vD-5pXeWUe1t"
      }
    },
    {
      "cell_type": "code",
      "execution_count": null,
      "metadata": {
        "id": "b59atnUbPxnT"
      },
      "outputs": [],
      "source": [
        "!featureCounts -a Mus_musculus.GRCm38.102.gtf -o counts.txt  *.sam"
      ]
    },
    {
      "cell_type": "code",
      "source": [
        "!head -n 50 counts.txt"
      ],
      "metadata": {
        "id": "5EsFA49TQn_H",
        "colab": {
          "base_uri": "https://localhost:8080/"
        },
        "outputId": "fe8cfafe-e896-4504-a19d-81e89b5f963e"
      },
      "execution_count": 37,
      "outputs": [
        {
          "output_type": "stream",
          "name": "stdout",
          "text": [
            "# Program:featureCounts v2.0.3; Command:\"featureCounts\" \"-a\" \"Mus_musculus.GRCm38.102.gtf\" \"-o\" \"counts.txt\" \"Aln_luminalvirgin_02.sam\" \"Aln_luminalvirgin_03.sam\" \n",
            "Geneid\tChr\tStart\tEnd\tStrand\tLength\tAln_luminalvirgin_02.sam\tAln_luminalvirgin_03.sam\n",
            "ENSMUSG00000102693\t1\t3073253\t3074322\t+\t1070\t0\t0\n",
            "ENSMUSG00000064842\t1\t3102016\t3102125\t+\t110\t0\t0\n",
            "ENSMUSG00000051951\t1;1;1;1;1;1;1\t3205901;3206523;3213439;3213609;3214482;3421702;3670552\t3207317;3207317;3215632;3216344;3216968;3421901;3671498\t-;-;-;-;-;-;-\t6094\t0\t0\n",
            "ENSMUSG00000102851\t1\t3252757\t3253236\t+\t480\t0\t0\n",
            "ENSMUSG00000103377\t1\t3365731\t3368549\t-\t2819\t0\t0\n",
            "ENSMUSG00000104017\t1\t3375556\t3377788\t-\t2233\t0\t0\n",
            "ENSMUSG00000103025\t1\t3464977\t3467285\t-\t2309\t0\t0\n",
            "ENSMUSG00000089699\t1;1\t3466587;3513405\t3466687;3513553\t+;+\t250\t0\t0\n",
            "ENSMUSG00000103201\t1\t3512451\t3514507\t-\t2057\t0\t0\n",
            "ENSMUSG00000103147\t1\t3531795\t3532720\t+\t926\t0\t0\n",
            "ENSMUSG00000103161\t1\t3592892\t3595903\t-\t3012\t0\t0\n",
            "ENSMUSG00000102331\t1;1\t3647309;3658847\t3650509;3658904\t-;-\t3259\t0\t0\n",
            "ENSMUSG00000102348\t1\t3680155\t3681788\t+\t1634\t0\t0\n",
            "ENSMUSG00000102592\t1\t3752010\t3754360\t+\t2351\t0\t0\n",
            "ENSMUSG00000088333\t1\t3783876\t3783933\t-\t58\t0\t0\n",
            "ENSMUSG00000102343\t1;1;1;1;1\t3905739;3984225;3985160;3985160;3986147\t3906134;3984298;3985984;3985351;3986215\t-;-;-;-;-\t1364\t0\t0\n",
            "ENSMUSG00000025900\t1;1;1;1;1;1;1;1;1;1;1;1;1;1;1;1;1;1;1;1;1;1;1;1;1;1;1;1;1;1;1;1;1;1;1;1;1;1\t3999557;4007656;4019070;4024736;4041888;4092617;4119668;4120015;4142612;4147812;4148612;4163855;4170205;4197534;4206660;4226611;4228443;4231053;4243133;4243417;4243543;4245031;4261527;4267469;4284766;4290846;4292926;4311270;4344146;4351910;4351910;4351910;4352202;4352202;4352202;4360200;4409170;4409170\t3999617;4007737;4019148;4024890;4042107;4092780;4119712;4120073;4142766;4147963;4148744;4163941;4170404;4197641;4206837;4226823;4228619;4231144;4243262;4243448;4243619;4245106;4261605;4267620;4284898;4293012;4293012;4311433;4350091;4352081;4352081;4352081;4352837;4352837;4352837;4360314;4409241;4409241\t-;-;-;-;-;-;-;-;-;-;-;-;-;-;-;-;-;-;-;-;-;-;-;-;-;-;-;-;-;-;-;-;-;-;-;-;-;-\t12311\t0\t0\n",
            "ENSMUSG00000102948\t1;1\t4256234;4258847\t4256427;4260519\t-;-\t1867\t0\t0\n",
            "ENSMUSG00000104123\t1\t4363346\t4364829\t-\t1484\t0\t0\n",
            "ENSMUSG00000025902\t1;1;1;1;1;1;1;1;1;1;1;1;1;1;1;1;1;1;1;1;1;1;1;1;1;1;1\t4490931;4491250;4491390;4491713;4492457;4492458;4492465;4492467;4493100;4493100;4493100;4493100;4493768;4493772;4493772;4493772;4493772;4495136;4495136;4495136;4495136;4496291;4496291;4496291;4496291;4496291;4496291\t4492668;4492663;4492668;4492668;4493604;4492668;4492668;4492668;4493490;4493735;4493490;4493466;4493863;4493863;4493863;4493863;4493863;4495942;4495198;4495942;4495942;4496396;4496330;4496363;4497354;4496757;4496413\t-;-;-;-;-;-;-;-;-;-;-;-;-;-;-;-;-;-;-;-;-;-;-;-;-;-;-\t4772\t0\t0\n",
            "ENSMUSG00000104238\t1;1;1;1\t4496551;4497474;4498007;4499470\t4499378;4497654;4498211;4499558\t+;+;+;+\t2917\t0\t0\n",
            "ENSMUSG00000102269\t1;1\t4522905;4524446\t4523603;4526737\t+;+\t2991\t0\t0\n",
            "ENSMUSG00000096126\t1\t4529017\t4529123\t+\t107\t0\t0\n",
            "ENSMUSG00000103003\t1\t4534837\t4535286\t-\t450\t0\t0\n",
            "ENSMUSG00000104328\t1;1\t4583129;4585937\t4585585;4586252\t-;-\t2773\t0\t0\n",
            "ENSMUSG00000102735\t1\t4610471\t4611406\t+\t936\t0\t0\n",
            "ENSMUSG00000098104\t1\t4687934\t4689403\t-\t1470\t0\t0\n",
            "ENSMUSG00000102175\t1\t4692219\t4693424\t-\t1206\t0\t0\n",
            "ENSMUSG00000088000\t1\t4723277\t4723379\t-\t103\t0\t0\n",
            "ENSMUSG00000103265\t1\t4735046\t4735676\t-\t631\t0\t0\n",
            "ENSMUSG00000103922\t1\t4771131\t4772199\t+\t1069\t0\t0\n",
            "ENSMUSG00000033845\t1;1;1;1;1;1;1;1;1;1;1;1;1;1;1;1;1;1;1;1;1;1;1;1;1;1\t4773206;4773211;4774436;4776377;4777525;4777525;4777525;4777525;4779967;4781221;4782568;4782568;4782568;4782568;4782568;4783572;4783951;4783951;4783951;4783951;4785573;4785573;4785573;4785573;4785573;4785573\t4774516;4776801;4774516;4776801;4777648;4777648;4777648;4777648;4784566;4782301;4782733;4782606;4782733;4782733;4782733;4784105;4784105;4784105;4784105;4784105;4785692;4785739;4785739;4785698;4785739;4785710\t-;-;-;-;-;-;-;-;-;-;-;-;-;-;-;-;-;-;-;-;-;-;-;-;-;-\t8487\t0\t0\n",
            "ENSMUSG00000102275\t1\t4778063\t4779212\t-\t1150\t0\t0\n",
            "ENSMUSG00000025903\t1;1;1;1;1;1;1;1;1;1;1;1;1;1;1;1;1;1;1;1;1;1;1;1;1;1;1;1;1;1;1;1;1;1;1;1;1;1;1;1;1;1;1;1;1;1;1;1;1;1;1;1;1;1;1;1;1;1;1\t4807788;4807823;4807830;4807896;4807898;4807911;4808237;4808455;4808455;4808455;4808455;4808455;4808455;4808455;4828584;4828584;4828584;4828584;4828584;4828584;4828584;4830268;4830268;4830268;4830268;4830268;4830268;4832311;4832311;4832311;4832311;4832311;4832311;4832311;4836905;4837001;4837001;4837001;4837001;4837001;4837001;4839387;4839387;4839387;4839387;4839387;4840956;4840956;4840956;4840956;4840956;4840956;4840956;4841107;4844963;4844963;4844963;4846784;4848140\t4807982;4807982;4807982;4807982;4807982;4807982;4808365;4808486;4808486;4808486;4808486;4808486;4808486;4808486;4828649;4828649;4828649;4828649;4828649;4828649;4828649;4830315;4830315;4830315;4830315;4830315;4830315;4832381;4832381;4832381;4832368;4832381;4832381;4832381;4839488;4837074;4837074;4837074;4837074;4837074;4837074;4839488;4839488;4839488;4839488;4839488;4842827;4841093;4841132;4840969;4841286;4841132;4841132;4841132;4845352;4845174;4846739;4846883;4848410\t+;+;+;+;+;+;+;+;+;+;+;+;+;+;+;+;+;+;+;+;+;+;+;+;+;+;+;+;+;+;+;+;+;+;+;+;+;+;+;+;+;+;+;+;+;+;+;+;+;+;+;+;+;+;+;+;+;+;+\t7145\t0\t0\n",
            "ENSMUSG00000104217\t1;1;1;1;1;1;1;1;1;1\t4807892;4828584;4830268;4832311;4837001;4839387;4840956;4867470;4878027;4886744\t4807982;4828649;4830315;4832381;4837074;4839488;4841132;4867532;4878132;4886770\t+;+;+;+;+;+;+;+;+;+\t825\t0\t0\n",
            "ENSMUSG00000033813\t1;1;1;1;1;1;1;1;1;1;1;1;1;1;1;1;1;1;1;1\t4857814;4858038;4867470;4867470;4878027;4878027;4886744;4886744;4889457;4889457;4890740;4890740;4891915;4891915;4893417;4893417;4894934;4894934;4896356;4896356\t4857976;4858503;4867532;4867532;4878132;4878132;4886831;4886831;4889602;4889602;4890796;4890796;4892069;4892069;4893563;4893563;4895005;4895005;4897909;4897905\t+;+;+;+;+;+;+;+;+;+;+;+;+;+;+;+;+;+;+;+\t3017\t0\t0\n",
            "ENSMUSG00000062588\t1\t4880049\t4880651\t-\t603\t0\t0\n",
            "ENSMUSG00000103280\t1\t4905751\t4906861\t-\t1111\t0\t0\n",
            "ENSMUSG00000002459\t1;1;1;1;1;1;1;1;1;1;1;1;1;1;1;1;1;1;1;1;1;1;1;1;1;1;1;1\t4909576;4909576;4910402;4910474;4912314;4912314;4912314;4912314;4912342;4916897;4916897;4916897;4916897;4916897;4922528;4923847;4923847;4923847;4923847;5018576;5019311;5019311;5019311;5020738;5062779;5070010;5070010;5070010\t4910662;4910662;4910662;4910662;4912548;4912548;4912548;4912548;4912548;4916980;4916980;4916980;4916980;4916980;4923989;4923989;4923989;4923989;4923989;5018735;5019379;5019379;5019539;5021037;5063184;5070282;5070273;5070285\t-;-;-;-;-;-;-;-;-;-;-;-;-;-;-;-;-;-;-;-;-;-;-;-;-;-;-;-\t4239\t0\t0\n",
            "ENSMUSG00000091305\t1\t4927028\t4927299\t-\t272\t0\t0\n",
            "ENSMUSG00000102653\t1\t4938576\t4940710\t-\t2135\t0\t0\n",
            "ENSMUSG00000085623\t1;1;1\t4970857;4971632;4973565\t4971128;4971828;4976820\t+;+;+\t3725\t0\t0\n",
            "ENSMUSG00000091665\t1\t5063060\t5064647\t+\t1588\t0\t0\n",
            "ENSMUSG00000033793\t1;1;1;1;1;1;1;1;1;1;1;1;1;1;1;1;1;1;1;1;1;1;1;1;1;1;1;1;1;1;1;1;1;1;1;1;1;1;1;1;1;1;1;1;1;1;1;1;1;1;1;1;1;1;1;1;1;1;1;1;1;1;1;1;1;1;1;1\t5070018;5083080;5083110;5083124;5083132;5083132;5083154;5083164;5084417;5084417;5084417;5084417;5084417;5084417;5084417;5089009;5089009;5089009;5089009;5089009;5089009;5089009;5093363;5093363;5093363;5093363;5093363;5093363;5093363;5095615;5095615;5095615;5095615;5095615;5095615;5098029;5098029;5098029;5098029;5098029;5101070;5101070;5101070;5117390;5117390;5117390;5117390;5124277;5124277;5124277;5124277;5133084;5133084;5133084;5133084;5135812;5135812;5135812;5143750;5143750;5143750;5143750;5149948;5149948;5149948;5162105;5162105;5162105\t5070144;5083278;5083625;5083278;5083278;5083278;5083278;5083278;5084563;5084563;5086779;5084563;5084563;5084563;5084563;5089111;5089111;5089111;5089111;5089111;5089111;5089111;5093452;5093452;5093452;5095728;5093452;5093452;5093452;5095728;5095728;5095659;5095728;5095728;5095728;5099777;5098133;5098133;5098133;5098133;5101123;5101123;5101123;5117487;5117487;5117487;5117487;5124469;5124469;5124469;5124469;5133262;5133262;5133262;5133262;5135937;5135937;5135937;5143851;5145052;5143851;5143851;5150061;5150061;5150061;5162419;5162529;5162340\t+;+;+;+;+;+;+;+;+;+;+;+;+;+;+;+;+;+;+;+;+;+;+;+;+;+;+;+;+;+;+;+;+;+;+;+;+;+;+;+;+;+;+;+;+;+;+;+;+;+;+;+;+;+;+;+;+;+;+;+;+;+;+;+;+;+;+;+\t9746\t0\t0\n",
            "ENSMUSG00000104352\t1;1\t5276106;5277263\t5276762;5277337\t-;-\t732\t0\t0\n",
            "ENSMUSG00000104046\t1\t5307739\t5310017\t+\t2279\t0\t0\n",
            "ENSMUSG00000102907\t1\t5403547\t5405578\t+\t2032\t0\t0\n",
            "ENSMUSG00000025905\t1;1;1;1;1;1;1;1;1;1;1;1;1;1;1;1;1;1\t5588466;5588493;5588493;5588557;5588941;5589005;5589035;5589035;5596518;5598590;5598590;5598590;5598590;5602252;5602252;5602252;5602252;5602252\t5591311;5588663;5588663;5588663;5589305;5589305;5589305;5589305;5598942;5598942;5598942;5598942;5598942;5603153;5604014;5602866;5606131;5606131\t+;+;+;+;+;+;+;+;+;+;+;+;+;+;+;+;+;+\t9151\t0\t0\n"
          ]
        }
      ]
    },
    {
      "cell_type": "markdown",
      "metadata": {
        "id": "NNWLchjtn6mg"
      },
      "source": [
        "#### 4.- Now let's visualize our data!\n",
        "\n",
        "Download your counts table and load it into R. Answer the following questions on an R-markdown. I want to see your code!\n",
        "\n",
        "1.- Use an online resource and look up the function mutate and use it to to sum all the counts per row. Which is the gene with most counts accross all samples.\n",
        "\n",
        "2.- What Is the length of the longest Gene and shortest Gene.\n",
        "\n",
        "3.- Use ggplot() and plot a histogram of counts across all samples (your new col with the sum).\n",
        "\n",
        "4.- use heatmap to visualize gene expression (Each row represents a gene, Each column represents a sample, The color represents the effect size)\n"
      ]
    }
  ],
  "metadata": {
    "colab": {
      "provenance": []
    },
    "kernelspec": {
      "display_name": "Python 3 (ipykernel)",
      "language": "python",
      "name": "python3"
    },
    "language_info": {
      "codemirror_mode": {
        "name": "ipython",
        "version": 3
      },
      "file_extension": ".py",
      "mimetype": "text/x-python",
      "name": "python",
      "nbconvert_exporter": "python",
      "pygments_lexer": "ipython3",
      "version": "3.9.6"
    }
  },
  "nbformat": 4,
  "nbformat_minor": 0
}