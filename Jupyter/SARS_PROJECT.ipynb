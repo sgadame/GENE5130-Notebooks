{
  "nbformat": 4,
  "nbformat_minor": 0,
  "metadata": {
    "colab": {
      "provenance": []
    },
    "kernelspec": {
      "name": "python3",
      "display_name": "Python 3"
    },
    "language_info": {
      "name": "python"
    }
  },
  "cells": [
    {
      "cell_type": "markdown",
      "source": [
        "## Projects\n",
        "2.- How does SARS-Cov-02 infection alter transcripyional acitivity. Overall design: Comparative gene expression profiling analysis of RNA-seq data using 4 types (uninfected/infected, young/mid-aged) of isolated lung endothelial cells.\n",
        "\n",
        " SRAID      | Age    |  Treatment |\n",
        "------------|--------|------------|\n",
        "SRR24206824 | Young  | SARS-CoV-2\n",
        "SRR24206825 | MidAge | SARS-CoV-2\n",
        "SRR24206826 | Young  | PBS\n",
        "SRR24206827 | MidAge | PBS"
      ],
      "metadata": {
        "id": "V_6GaxSxGDDL"
      }
    },
    {
      "cell_type": "code",
      "execution_count": null,
      "metadata": {
        "id": "qadKhzojD_HC"
      },
      "outputs": [],
      "source": [
        "# Make sure the following is installed in conda\n",
        "  # SRA Toolkit\n",
        "  # FastQC\n",
        "  # Cutadapt\n",
        "  # Hisat2\n",
        "  # Subread\n",
        "# Get appropriate reference genome (mouse)\n",
        "    !wget ftp://ftp.ccb.jhu.edu/pub/infphilo/hisat2/data/mm10.tar.gz\n",
        "    !tar -xzf mm10.tar.gz\n",
        "# Get appropriate annotation genome (GTF/GFF)\n",
        "    !wget https://ftp.ensembl.org/pub/release-102/gtf/mus_musculus/Mus_musculus.GRCm38.102.gtf.gz\n",
        "    !gunzip Mus_musculus.GRCm38.102.gtf.gz\n",
        "# Download Samples and ensure proper name/nomenclature\n",
        "  # Subsample the data to 5 M reads\n",
        "    !fastq-dump -X 5000000 SRR24206824\n",
        "    !fastq-dump -X 5000000 SRR24206825\n",
        "    !fastq-dump -X 5000000 SRR24206826\n",
        "    !fastq-dump -X 5000000 SRR24206827\n",
        "    # Rename files to reflect experimental conditions\n",
        "      !mv SRR24206824.fastq young_infected.fastq\n",
        "      !mv SRR24206825.fastq midage_infected.fastq\n",
        "      !mv SRR24206826.fastq young_control.fastq\n",
        "      !mv SRR24206827.fastq midage_control.fastq\n",
        "\n",
        "  # FastQC and assess\n",
        "      !fastqc *.fastq\n",
        "  # Cutadapt (15 and 28) - Industry standard\n",
        "    !cutadapt --cut 210 -q 28 --minimum-length 50 -o trimmed_young_infected.fastq young_infected.fastq #option one, which gives 100% unpaired\n",
        "    !cutadapt --cut 25 -q 28 -o trimmed_midage_infected.fastq midage_infected.fastq #default option, which gives 100% unpaired\n",
        "    !cutadapt --cut 25 -q 28 -o trimmed_young_control.fastq young_control.fastq\n",
        "    !cutadapt --cut 25 -q 28 -o trimmed_midage_control.fastq midage_control.fastq\n",
        "  # Hisat alignment with proper annotation\n",
        "      # alignment\n",
        "      !hisat2 -x mm10/genome -U trimmed_young_infected.fastq -S aln_young_infected.sam\n",
        "      !hisat2 -x mm10/genome -U trimmed_midage_infected.fastq -S aln_midage_infected.sam\n",
        "      !hisat2 -x mm10/genome -U trimmed_young_control.fastq -S aln_young_control.sam\n",
        "      !hisat2 -x mm10/genome -U trimmed_midage_control.fastq -S aln_midage_control.sam\n",
        "  # Subread to create counts table\n",
        "    !featureCounts -a Mus_musculus.GRCm38.102.gtf -t exon -g gene_id -o counts.txt *.sam\n",
        "    !head -n 50 counts.txt\n",
        "# Once data is processed, visualize with R\n",
        "  # Mutate function to sum all counts per row\n",
        "    # Which gene has the most counts?\n",
        "    # Length of the longest and shorted gene?\n",
        "  # Visualize counts across all samples with ggplot (histogram)"
      ]
    },
    {
      "cell_type": "code",
      "source": [
        "#library(tidyverse)\n",
        "#library(DESeq2)\n",
        "\n",
        "# Read counts\n",
        "#count_data <- read.table(\"counts.txt\", header=TRUE, row.names=1, skip=1)\n",
        "\n",
        "# Basic analysis\n",
        "#total_counts <- colSums(count_data[,6:ncol(count_data)])\n",
        "#gene_lengths <- count_data$Length\n",
        "\n",
        "# Visualization\n",
        "#ggplot(data.frame(Sample=names(total_counts), Counts=total_counts),\n",
        "       #aes(x=Sample, y=Counts)) +\n",
        "  #geom_bar(stat=\"identity\") +\n",
        "  #theme_minimal()"
      ],
      "metadata": {
        "id": "JsU5G_XTUw1S"
      },
      "execution_count": null,
      "outputs": []
    }
  ]
}