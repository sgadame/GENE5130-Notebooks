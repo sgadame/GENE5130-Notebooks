{
 "cells": [
  {
   "cell_type": "code",
   "execution_count": null,
   "metadata": {},
   "outputs": [],
   "source": [
    "# Install general tools\n",
    "import pandas as pd\n",
    "import matplotlib as matplotlib\n",
    "import cyvcf2 as cyvcf2\n",
    "pip install pycurl\n"
   ]
  },
  {
   "cell_type": "code",
   "execution_count": null,
   "metadata": {},
   "outputs": [
    {
     "name": "stdout",
     "output_type": "stream",
     "text": [
      "  % Total    % Received % Xferd  Average Speed   Time    Time     Time  Current\n",
      "                                 Dload  Upload   Total   Spent    Left  Speed\n",
      "  0     0    0     0    0     0      0      0 --:--:-- --:--:-- --:--:--     0\n",
      "  1 2146k    1 31891    0     0  59141      0  0:00:37 --:--:--  0:00:37 59141x minimap2-2.28_x64-linux/minimap2: Failed to create dir 'minimap2-2.28_x64-linux'\n",
      "100 2146k  100 2146k    0     0  3075k      0 --:--:-- --:--:-- --:--:-- 13.0M\n",
      "tar: Error exit delayed from previous errors.\n"
     ]
    }
   ],
   "source": [
    "# Install minimap2 to align\n",
    "!curl -L https://github.com/lh3/minimap2/releases/download/v2.28/minimap2-2.28_x64-linux.tar.bz2 | \\\n",
    "    tar -jxvf - ./minimap2-2.28_x64-linux/minimap2 "
   ]
  },
  {
   "cell_type": "code",
   "execution_count": null,
   "metadata": {},
   "outputs": [
    {
     "name": "stdout",
     "output_type": "stream",
     "text": [
      "Collecting sniffles\n",
      "  Downloading sniffles-2.6.1-py3-none-any.whl.metadata (4.9 kB)\n",
      "Collecting pysam>=0.21.0 (from sniffles)\n",
      "  Downloading pysam-0.23.0-cp312-cp312-macosx_11_0_arm64.whl.metadata (1.6 kB)\n",
      "Collecting edlib>=1.3.9 (from sniffles)\n",
      "  Downloading edlib-1.3.9.post1-cp312-cp312-macosx_10_9_universal2.whl.metadata (9.1 kB)\n",
      "Requirement already satisfied: psutil>=5.9.4 in /Users/sadame/Library/Python/3.12/lib/python/site-packages (from sniffles) (7.0.0)\n",
      "Downloading sniffles-2.6.1-py3-none-any.whl (68 kB)\n",
      "Downloading edlib-1.3.9.post1-cp312-cp312-macosx_10_9_universal2.whl (132 kB)\n",
      "Downloading pysam-0.23.0-cp312-cp312-macosx_11_0_arm64.whl (8.3 MB)\n",
      "\u001b[2K   \u001b[90m━━━━━━━━━━━━━━━━━━━━━━━━━━━━━━━━━━━━━━━━\u001b[0m \u001b[32m8.3/8.3 MB\u001b[0m \u001b[31m22.3 MB/s\u001b[0m eta \u001b[36m0:00:00\u001b[0ma \u001b[36m0:00:01\u001b[0m\n",
      "\u001b[?25hInstalling collected packages: edlib, pysam, sniffles\n",
      "Successfully installed edlib-1.3.9.post1 pysam-0.23.0 sniffles-2.6.1\n",
      "\n",
      "\u001b[1m[\u001b[0m\u001b[34;49mnotice\u001b[0m\u001b[1;39;49m]\u001b[0m\u001b[39;49m A new release of pip is available: \u001b[0m\u001b[31;49m24.2\u001b[0m\u001b[39;49m -> \u001b[0m\u001b[32;49m25.0.1\u001b[0m\n",
      "\u001b[1m[\u001b[0m\u001b[34;49mnotice\u001b[0m\u001b[1;39;49m]\u001b[0m\u001b[39;49m To update, run: \u001b[0m\u001b[32;49mpip3 install --upgrade pip\u001b[0m\n",
      "Note: you may need to restart the kernel to use updated packages.\n"
     ]
    }
   ],
   "source": [
    "pip install sniffles # Install Sniffles2 to evaluate nanopore seq "
   ]
  },
  {
   "cell_type": "code",
   "execution_count": 32,
   "metadata": {},
   "outputs": [],
   "source": [
    "# Number of Reads (bash)\n"
   ]
  },
  {
   "cell_type": "code",
   "execution_count": null,
   "metadata": {},
   "outputs": [
    {
     "name": "stdout",
     "output_type": "stream",
     "text": [
      "File: /Users/sadame/Desktop/FAY50208_pass_0ab7b0aa_5fa1353a_367.fastq \n",
      "Reads: 1 \n",
      "Avg length: 140\n",
      "File: /Users/sadame/Desktop/FAY50208_pass_0ab7b0aa_5fa1353a_13.fastq \n",
      "Reads: 1 \n",
      "Avg length: 2116\n",
      "File: /Users/sadame/Desktop/FAY50208_fail_0ab7b0aa_5fa1353a_8.fastq \n",
      "Reads: 1 \n",
      "Avg length: 299476\n"
     ]
    }
   ],
   "source": [
    "# Average read length\n",
    "!awk 'NR%4==1 {read_count++} NR%4==2 {total_len+=length($0)} END {print \"File:\", FILENAME, \"\\nReads:\", read_count, \"\\nAvg length:\", total_len/read_count}' /Users/sadame/Desktop/FAY50208_pass_0ab7b0aa_5fa1353a_367.fastq\n",
    "\n",
    "!awk 'NR%4==1 {read_count++} NR%4==2 {total_len+=length($0)} END {print \"File:\", FILENAME, \"\\nReads:\", read_count, \"\\nAvg length:\", total_len/read_count}' /Users/sadame/Desktop/FAY50208_pass_0ab7b0aa_5fa1353a_13.fastq\n",
    "\n",
    "!awk 'NR%4==1 {read_count++} NR%4==2 {total_len+=length($0)} END {print \"File:\", FILENAME, \"\\nReads:\", read_count, \"\\nAvg length:\", total_len/read_count}' /Users/sadame/Desktop/FAY50208_fail_0ab7b0aa_5fa1353a_8.fastq"
   ]
  },
  {
   "cell_type": "code",
   "execution_count": 31,
   "metadata": {},
   "outputs": [],
   "source": [
    "# Read length distribution \n"
   ]
  },
  {
   "cell_type": "code",
   "execution_count": null,
   "metadata": {},
   "outputs": [],
   "source": [
    "# Expected coverage"
   ]
  },
  {
   "cell_type": "code",
   "execution_count": null,
   "metadata": {},
   "outputs": [],
   "source": [
    "# Figure 1.) \n"
   ]
  },
  {
   "cell_type": "code",
   "execution_count": null,
   "metadata": {},
   "outputs": [],
   "source": [
    "#Analysis with new tools!\n"
   ]
  }
 ],
 "metadata": {
  "kernelspec": {
   "display_name": "Python 3",
   "language": "python",
   "name": "python3"
  },
  "language_info": {
   "codemirror_mode": {
    "name": "ipython",
    "version": 3
   },
   "file_extension": ".py",
   "mimetype": "text/x-python",
   "name": "python",
   "nbconvert_exporter": "python",
   "pygments_lexer": "ipython3",
   "version": "3.12.5"
  }
 },
 "nbformat": 4,
 "nbformat_minor": 2
}
